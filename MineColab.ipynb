{
  "cells": [
    {
      "cell_type": "markdown",
      "metadata": {
        "id": "ZktjRJuZp1h6"
      },
      "source": [
        "\n",
        "```\n",
        "███╗   ███╗██╗███╗   ██╗███████╗ ██████╗ ██████╗ ██╗      █████╗ ██████╗\n",
        "████╗ ████║██║████╗  ██║██╔════╝██╔════╝██╔═══██╗██║     ██╔══██╗██╔══██╗\n",
        "██╔████╔██║██║██╔██╗ ██║█████╗  ██║     ██║   ██║██║     ███████║██████╔╝\n",
        "██║╚██╔╝██║██║██║╚██╗██║██╔══╝  ██║     ██║   ██║██║     ██╔══██║██╔══██╗\n",
        "██║ ╚═╝ ██║██║██║ ╚████║███████╗╚██████╗╚██████╔╝███████╗██║  ██║██████╔╝\n",
        "╚═╝     ╚═╝╚═╝╚═╝  ╚═══╝╚══════╝ ╚═════╝ ╚═════╝ ╚══════╝╚═╝  ╚═╝╚═════╝\n",
        "```\n",
        "**Run a Minecraft Server on Google Colab!**\n",
        "\n",
        "---\n",
        "\n",
        "The script below will run your server. You'll have to create a server first to be able to use it - don't worry, the scripts below will do the majority of the work for you. You might also want to change the default region to your region, check below."
      ]
    },
    {
      "cell_type": "code",
      "execution_count": 18,
      "metadata": {
        "id": "lqtMoYg0dUmu",
        "colab": {
          "base_uri": "https://localhost:8080/"
        },
        "outputId": "3bbe58c8-15f1-46e1-fddf-e7a4670b3297"
      },
      "outputs": [
        {
          "output_type": "stream",
          "name": "stdout",
          "text": [
            "apt cache successfully updated\n",
            "Yay! OpenJDK 21 has been successfully installed.\n",
            "OpenJDK 21 is working correctly. You are good to go!\n",
            "Drive already mounted at /content/drive; to attempt to forcibly remount, call drive.mount(\"/content/drive\", force_remount=True).\n",
            "/content/drive/My Drive/Minecraft-server\n",
            "banned-ips.json\t\t   cloudflared-linux-amd64.4  libraries\t\t usercache.json\n",
            "banned-players.json\t   cloudflared-linux-amd64.5  logs\t\t version_history.json\n",
            "bukkit.yml\t\t   cloudflared-linux-amd64.6  ops.json\t\t versions\n",
            "cache\t\t\t   colabconfig.json\t      permissions.yml\t whitelist.json\n",
            "cloudflared-linux-amd64    commands.yml\t\t      plugins\t\t world\n",
            "cloudflared-linux-amd64.1  config\t\t      server.jar\t world_nether\n",
            "cloudflared-linux-amd64.2  eula.txt\t\t      server.properties  world_the_end\n",
            "cloudflared-linux-amd64.3  help.yml\t\t      spigot.yml\n",
            "Procedding to use playit\n",
            "Warning: apt-key is deprecated. Manage keyring files in trusted.gpg.d instead (see apt-key(8)).\n",
            "OK\n",
            "Playit.gg installed\n",
            "Starting server...\n",
            "\u001b8\u001b[0mno command provided, doing auto run\u001b[2J\u001b8\u001b[0mchecking if secret key is valid\u001b[2J\u001b8\u001b[0msecret key valid, agent has 1 tunnelsStarting org.bukkit.craftbukkit.Main\n",
            "[20:50:10 INFO]: [bootstrap] Running Java 21 (OpenJDK 64-Bit Server VM 21.0.5+11-Ubuntu-1ubuntu122.04; Ubuntu null) on Linux 6.1.85+ (amd64)\n",
            "[20:50:10 INFO]: [bootstrap] Loading Paper 1.21.1-131-ver/1.21.1@84281ce (2024-10-31T17:43:44Z) for Minecraft 1.21.1\n",
            "[20:50:10 INFO]: [PluginInitializerManager] Initializing plugins...\n",
            "\u001b[2J\u001b8\u001b[0mstarting up tunnel connection[20:50:11 INFO]: [PluginInitializerManager] Initialized 0 plugins\n",
            "\u001b[2J\u001b8\u001b[0mtunnel running\u001b[2J\u001b8\u001b[0mplayit (v0.15.26): 1731963015708 tunnel running, 1 tunnels registered\n",
            "\n",
            "\n",
            "TUNNELS\n",
            "rooms-internet.gl.joinmc.link => 127.0.0.1:25565 (minecraft-java)\n",
            "\u001b[2J\u001b8\u001b[0mplayit (v0.15.26): 1731963018790 tunnel running, 1 tunnels registered\n",
            "\n",
            "\n",
            "TUNNELS\n",
            "rooms-internet.gl.joinmc.link => 127.0.0.1:25565 (minecraft-java)\n",
            "\u001b[2J\u001b8\u001b[0mplayit (v0.15.26): 1731963021867 tunnel running, 1 tunnels registered\n",
            "\n",
            "\n",
            "TUNNELS\n",
            "rooms-internet.gl.joinmc.link => 127.0.0.1:25565 (minecraft-java)\n",
            "[20:50:23 INFO]: Environment: Environment[sessionHost=https://sessionserver.mojang.com, servicesHost=https://api.minecraftservices.com, name=PROD]\n",
            "\u001b[2J\u001b8\u001b[0mplayit (v0.15.26): 1731963024927 tunnel running, 1 tunnels registered\n",
            "\n",
            "\n",
            "TUNNELS\n",
            "rooms-internet.gl.joinmc.link => 127.0.0.1:25565 (minecraft-java)\n",
            "\u001b[2J\u001b8\u001b[0mplayit (v0.15.26): 1731963028014 tunnel running, 1 tunnels registered\n",
            "\n",
            "\n",
            "TUNNELS\n",
            "rooms-internet.gl.joinmc.link => 127.0.0.1:25565 (minecraft-java)\n",
            "[20:50:28 INFO]: Loaded 1290 recipes\n",
            "[20:50:28 INFO]: Loaded 1399 advancements\n",
            "[20:50:29 INFO]: Starting minecraft server version 1.21.1\n",
            "\u001b[33;1m[20:50:29 WARN]: ****************************\n",
            "\u001b[m\u001b[33;1m[20:50:29 WARN]: YOU ARE RUNNING THIS SERVER AS AN ADMINISTRATIVE OR ROOT USER. THIS IS NOT ADVISED.\n",
            "\u001b[m\u001b[33;1m[20:50:29 WARN]: YOU ARE OPENING YOURSELF UP TO POTENTIAL RISKS WHEN DOING THIS.\n",
            "\u001b[m\u001b[33;1m[20:50:29 WARN]: FOR MORE INFORMATION, SEE https://madelinemiller.dev/blog/root-minecraft-server/\n",
            "\u001b[m\u001b[33;1m[20:50:29 WARN]: ****************************\n",
            "\u001b[m[20:50:29 INFO]: Loading properties\n",
            "[20:50:29 INFO]: This server is running Paper version 1.21.1-131-ver/1.21.1@84281ce (2024-10-31T17:43:44Z) (Implementing API version 1.21.1-R0.1-SNAPSHOT)\n",
            "\u001b[2J\u001b8\u001b[0mplayit (v0.15.26): 1731963031082 tunnel running, 1 tunnels registered\n",
            "\n",
            "\n",
            "TUNNELS\n",
            "rooms-internet.gl.joinmc.link => 127.0.0.1:25565 (minecraft-java)\n",
            "[20:50:31 INFO]: [spark] This server bundles the spark profiler. For more information please visit https://docs.papermc.io/paper/profiling\n",
            "[20:50:32 INFO]: Server Ping Player Sample Count: 12\n",
            "[20:50:32 INFO]: Using 4 threads for Netty based IO\n",
            "[20:50:33 INFO]: [ChunkTaskScheduler] Chunk system is using 1 I/O threads, 1 worker threads, and population gen parallelism of 1 threads\n",
            "\u001b[2J\u001b8\u001b[0mplayit (v0.15.26): 1731963034142 tunnel running, 1 tunnels registered\n",
            "\n",
            "\n",
            "TUNNELS\n",
            "rooms-internet.gl.joinmc.link => 127.0.0.1:25565 (minecraft-java)\n",
            "[20:50:34 INFO]: Default game type: SURVIVAL\n",
            "[20:50:34 INFO]: Generating keypair\n",
            "\u001b[K[20:50:34 INFO]: Starting Minecraft server on *:25565\n",
            "\u001b[K[20:50:34 INFO]: Using epoll channel type\n",
            "\u001b[K[20:50:34 INFO]: Paper: Using libdeflate (Linux x86_64) compression from Velocity.\n",
            "\u001b[K[20:50:34 INFO]: Paper: Using OpenSSL 3.x.x (Linux x86_64) cipher from Velocity.\n",
            "\u001b[K[20:50:35 INFO]: Server permissions file permissions.yml is empty, ignoring it\n",
            "\u001b[K[20:50:35 INFO]: Preparing level \"world\"\n",
            "\u001b[K[20:50:36 INFO]: Preparing start region for dimension minecraft:overworld\n",
            ">....\u001b[2J\u001b8\u001b[0mplayit (v0.15.26): 1731963037199 tunnel running, 1 tunnels registered\n",
            "\n",
            "\n",
            "TUNNELS\n",
            "rooms-internet.gl.joinmc.link => 127.0.0.1:25565 (minecraft-java)\n",
            "\u001b[2J\u001b8\u001b[0mplayit (v0.15.26): 1731963040335 tunnel running, 1 tunnels registered\n",
            "\n",
            "\n",
            "TUNNELS\n",
            "rooms-internet.gl.joinmc.link => 127.0.0.1:25565 (minecraft-java)\n",
            "\u001b[K[20:50:40 INFO]: Time elapsed: 4519 ms\n",
            "\u001b[K[20:50:40 INFO]: Preparing start region for dimension minecraft:the_nether\n",
            "\u001b[K[20:50:42 INFO]: Time elapsed: 1253 ms\n",
            "\u001b[K[20:50:42 INFO]: Preparing start region for dimension minecraft:the_end\n",
            "\u001b[K[20:50:42 INFO]: Time elapsed: 622 ms\n",
            "\u001b[K[20:50:42 INFO]: [spark] Starting background profiler...\n",
            ">....\u001b[2J\u001b8\u001b[0mplayit (v0.15.26): 1731963043415 tunnel running, 1 tunnels registered\n",
            "\n",
            "\n",
            "TUNNELS\n",
            "rooms-internet.gl.joinmc.link => 127.0.0.1:25565 (minecraft-java)\n",
            "\u001b[K[20:50:43 INFO]: Done preparing level \"world\" (8.692s)\n",
            "\u001b[K[20:50:43 INFO]: Running delayed init tasks\n",
            "\u001b[K[20:50:43 INFO]: Done (35.337s)! For help, type \"help\"\n",
            "\u001b[K[20:50:43 INFO]: Timings Reset\n",
            ">....\u001b[2J\u001b8\u001b[0mplayit (v0.15.26): 1731963046492 tunnel running, 1 tunnels registered\n",
            "\n",
            "\n",
            "TUNNELS\n",
            "rooms-internet.gl.joinmc.link => 127.0.0.1:25565 (minecraft-java)\n",
            "\u001b[2J\u001b8\u001b[0mplayit (v0.15.26): 1731963049596 tunnel running, 1 tunnels registered\n",
            "\n",
            "\n",
            "TUNNELS\n",
            "rooms-internet.gl.joinmc.link => 127.0.0.1:25565 (minecraft-java)\n",
            "\u001b[2J\u001b8\u001b[0mplayit (v0.15.26): 1731963052672 tunnel running, 1 tunnels registered\n",
            "\n",
            "\n",
            "TUNNELS\n",
            "rooms-internet.gl.joinmc.link => 127.0.0.1:25565 (minecraft-java)\n",
            "\u001b[2J\u001b8\u001b[0mplayit (v0.15.26): 1731963055734 tunnel running, 1 tunnels registered\n",
            "\n",
            "\n",
            "TUNNELS\n",
            "rooms-internet.gl.joinmc.link => 127.0.0.1:25565 (minecraft-java)\n",
            "\u001b[2J\u001b8\u001b[0mplayit (v0.15.26): 1731963058811 tunnel running, 1 tunnels registered\n",
            "\n",
            "\n",
            "TUNNELS\n",
            "rooms-internet.gl.joinmc.link => 127.0.0.1:25565 (minecraft-java)\n",
            "\u001b[2J\u001b8\u001b[0mplayit (v0.15.26): 1731963061880 tunnel running, 1 tunnels registered\n",
            "\n",
            "\n",
            "TUNNELS\n",
            "rooms-internet.gl.joinmc.link => 127.0.0.1:25565 (minecraft-java)\n",
            "\u001b[2J\u001b8\u001b[0mplayit (v0.15.26): 1731963064962 tunnel running, 1 tunnels registered\n",
            "\n",
            "\n",
            "TUNNELS\n",
            "rooms-internet.gl.joinmc.link => 127.0.0.1:25565 (minecraft-java)\n",
            "\u001b[2J\u001b8\u001b[0mplayit (v0.15.26): 1731963068039 tunnel running, 1 tunnels registered\n",
            "\n",
            "\n",
            "TUNNELS\n",
            "rooms-internet.gl.joinmc.link => 127.0.0.1:25565 (minecraft-java)\n",
            "[20:51:10 INFO]: Stopping server\n",
            "[20:51:10 INFO]: Saving players\n",
            "[20:51:10 INFO]: Saving worlds\n",
            "[20:51:10 INFO]: Saving chunks for level 'ServerLevel[world]'/minecraft:overworld\n",
            "[20:51:10 INFO]: [ChunkHolderManager] Waiting 60s for chunk system to halt for world 'world'\n",
            "[20:51:10 INFO]: [ChunkHolderManager] Halted chunk system for world 'world'\n",
            "[20:51:10 INFO]: [ChunkHolderManager] Saving all chunkholders for world 'world'\n",
            "[20:51:13 INFO]: [ChunkHolderManager] Saved 49 block chunks, 49 entity chunks, 0 poi chunks in world 'world' in 2.82s\n",
            "[20:51:13 INFO]: Saving chunks for level 'ServerLevel[world_nether]'/minecraft:the_nether\n",
            "[20:51:13 INFO]: [ChunkHolderManager] Waiting 60s for chunk system to halt for world 'world_nether'\n",
            "[20:51:13 INFO]: [ChunkHolderManager] Halted chunk system for world 'world_nether'\n",
            "[20:51:13 INFO]: [ChunkHolderManager] Saving all chunkholders for world 'world_nether'\n",
            "[20:51:13 INFO]: [ChunkHolderManager] Saved 49 block chunks, 49 entity chunks, 0 poi chunks in world 'world_nether' in 0.19s\n",
            "[20:51:14 INFO]: Saving chunks for level 'ServerLevel[world_the_end]'/minecraft:the_end\n",
            "[20:51:14 INFO]: [ChunkHolderManager] Waiting 60s for chunk system to halt for world 'world_the_end'\n",
            "[20:51:14 INFO]: [ChunkHolderManager] Halted chunk system for world 'world_the_end'\n",
            "[20:51:14 INFO]: [ChunkHolderManager] Saving all chunkholders for world 'world_the_end'\n",
            "[20:51:14 INFO]: [ChunkHolderManager] Saved 49 block chunks, 49 entity chunks, 0 poi chunks in world 'world_the_end' in 0.11s\n",
            "WARN StatusConsoleListener Advanced terminal features are not available in this environment\n",
            "[20:51:14 INFO]: ThreadedAnvilChunkStorage (world): All chunks are saved\n",
            "[20:51:14 INFO]: ThreadedAnvilChunkStorage (DIM-1): All chunks are saved\n",
            "[20:51:14 INFO]: ThreadedAnvilChunkStorage (DIM1): All chunks are saved\n",
            "[20:51:14 INFO]: ThreadedAnvilChunkStorage: All dimensions are saved\n"
          ]
        }
      ],
      "source": [
        "import os\n",
        "import re\n",
        "import json\n",
        "\n",
        "# Update the package lists\n",
        "!sudo apt update &>/dev/null && echo \"apt cache successfully updated\" || echo \"apt cache update failed, you might receive stale packages\"\n",
        "\n",
        "# Install OpenJDK 21\n",
        "if os.system(\"sudo apt-get install -y openjdk-21-jre-headless &>/dev/null\") == 0:\n",
        "    print(\"Yay! OpenJDK 21 has been successfully installed.\")\n",
        "else:\n",
        "    print(\"Failed to install OpenJDK 21.\")\n",
        "\n",
        "# Perform Java version check\n",
        "java_ver_output = os.popen(\"java -version 2>&1\").read()\n",
        "match = re.search(r'version \"(\\d+)\\.', java_ver_output)\n",
        "\n",
        "if match:\n",
        "    java_ver = match.group(1)\n",
        "    if java_ver == \"21\":\n",
        "        print(\"OpenJDK 21 is working correctly. You are good to go!\")\n",
        "    else:\n",
        "        print(f\"OpenJDK 21 doesn't seem to be installed or isn't working. Current version: {java_ver}. \"\n",
        "              \"You might experience reduced performance.\")\n",
        "else:\n",
        "    print(\"Java is not installed or `java -version` output is unexpected.\")\n",
        "\n",
        "# Mount Google Drive\n",
        "from google.colab import drive\n",
        "drive.mount('/content/drive')\n",
        "# Change directory to the Minecraft server folder on Google Drive\n",
        "%cd \"/content/drive/My Drive/Minecraft-server\"\n",
        "!ls #list the directory contents (to verify that working directory was changed)\n",
        "\n",
        "# Import config file.\n",
        "if os.path.isfile(\"colabconfig.json\"):\n",
        "  colabconfig = json.load(open(\"colabconfig.json\"))\n",
        "else:\n",
        "  colabconfig = {\"server_type\": \"generic\"} # using default, if config doesn't exists.\n",
        "  json.dump(colabconfig, open(\"colabconfig.json\",'w'))\n",
        "\n",
        "# Server jar names.\n",
        "jar_list = {'paper': 'server.jar', 'fabric': 'fabric-server-launch.jar', 'generic': 'server.jar', 'forge': 'server.jar'}\n",
        "jar_name = jar_list[colabconfig[\"server_type\"]]\n",
        "\n",
        "# Java arguments.\n",
        "if colabconfig[\"server_type\"] == \"paper\":\n",
        "  server_flags = \"-XX:+UseG1GC -XX:+ParallelRefProcEnabled -XX:MaxGCPauseMillis=200 -XX:+UnlockExperimentalVMOptions -XX:+DisableExplicitGC -XX:+AlwaysPreTouch -XX:G1NewSizePercent=30 -XX:G1MaxNewSizePercent=40 -XX:G1HeapRegionSize=8M -XX:G1ReservePercent=20 -XX:G1HeapWastePercent=5 -XX:G1MixedGCCountTarget=4 -XX:InitiatingHeapOccupancyPercent=15 -XX:G1MixedGCLiveThresholdPercent=90 -XX:G1RSetUpdatingPauseTimePercent=5 -XX:SurvivorRatio=32 -XX:+PerfDisableSharedMem -XX:MaxTenuringThreshold=1 -Dusing.aikars.flags=https://mcflags.emc.gs -Daikars.new.flags=true\"\n",
        "else:\n",
        "  server_flags = \"\" # aiker's flags might negatively impact performance on non-paper servers.\n",
        "memory_allocation = \"-Xmx6144M -Xms6144M\"\n",
        "\n",
        "# Chose the tunnle service you want to use\n",
        "# Available options: ngrok, argo, playit\n",
        "tunnel_service = \"playit\"\n",
        "print(\"Procedding to use\", tunnel_service)\n",
        "\n",
        "\n",
        "if tunnel_service == \"ngrok\":\n",
        "  !pip -q install pyngrok\n",
        "  from pyngrok import conf, ngrok\n",
        "\n",
        "  # Ask for the ngrok authtoken\n",
        "  print(\"Get your authtoken from https://dashboard.ngrok.com/auth\")\n",
        "  import getpass\n",
        "  authtoken = \"2p2Mlr14XDD75zpgPCDHZyHWabw_455DnBHoQWPD7kSAk2ia7\"  # input your Ngrok auth token everytime you run the cell or simply replace \"getpass.getpass()\" with your token in \"double quotes\"\n",
        "  ! ngrok authtoken $authtoken # login to ngrok\n",
        "\n",
        "  # Sets default ngrok region\n",
        "  conf.get_default().region = 'sa'  # Change this to whichever region you want\n",
        "\n",
        "  # Connect to ngrok\n",
        "  url = ngrok.connect(25565, 'tcp')\n",
        "  print('Your server address is ' + ((str(url).split('\"')[1::2])[0]).replace('tcp://', ''))\n",
        "\n",
        "  print('Starting server...')\n",
        "  !java $memory_allocation $server_flags -jar $jar_name nogui\n",
        "\n",
        "elif tunnel_service == \"playit\":\n",
        "  ! curl -SsL https://playit-cloud.github.io/ppa/key.gpg | sudo apt-key add -\n",
        "  ! sudo curl -SsL -o /etc/apt/sources.list.d/playit-cloud.list https://playit-cloud.github.io/ppa/playit-cloud.list\n",
        "  ! sudo apt update &>/dev/null && sudo apt install playit &>/dev/null && echo \"Playit.gg installed\" || echo \"Failed to install playit\"\n",
        "  print('Starting server...')\n",
        "  ! playit & java $memory_allocation $server_flags -jar $jar_name nogui\n",
        "\n",
        "else:\n",
        "  # Download & make argo executable\n",
        "  !wget https://github.com/cloudflare/cloudflared/releases/latest/download/cloudflared-linux-amd64\n",
        "  !chmod +x cloudflared-linux-amd64\n",
        "  print('Starting server...')\n",
        "  !./cloudflared-linux-amd64 tunnel --url tcp://127.0.0.1:25565 & java $memory_allocation $server_flags -jar $jar_name nogui\n"
      ]
    },
    {
      "cell_type": "code",
      "source": [
        "ip_info = os.popen(\"ip address\").read()\n",
        "\n",
        "# Display the IP address information\n",
        "print(ip_info)"
      ],
      "metadata": {
        "colab": {
          "base_uri": "https://localhost:8080/"
        },
        "id": "qN1QUDJU7oy7",
        "outputId": "b1f60877-9827-4f99-9630-88afd4eed0bd"
      },
      "execution_count": 15,
      "outputs": [
        {
          "output_type": "stream",
          "name": "stdout",
          "text": [
            "1: lo: <LOOPBACK,UP,LOWER_UP> mtu 65536 qdisc noqueue state UNKNOWN group default qlen 1000\n",
            "    link/loopback 00:00:00:00:00:00 brd 00:00:00:00:00:00\n",
            "    inet 127.0.0.1/8 scope host lo\n",
            "       valid_lft forever preferred_lft forever\n",
            "9: eth0@if10: <BROADCAST,MULTICAST,UP,LOWER_UP> mtu 1500 qdisc noqueue state UP group default \n",
            "    link/ether 02:42:ac:1c:00:0c brd ff:ff:ff:ff:ff:ff link-netnsid 0\n",
            "    inet 172.28.0.12/16 brd 172.28.255.255 scope global eth0\n",
            "       valid_lft forever preferred_lft forever\n",
            "\n"
          ]
        }
      ]
    },
    {
      "cell_type": "markdown",
      "metadata": {
        "id": "_4IowSDVUZp8"
      },
      "source": [
        "# Make-a-Server\n",
        "\n",
        "The code below will download a server for you and accept the EULA. After running these scripts, your server will be ready to run."
      ]
    },
    {
      "cell_type": "markdown",
      "metadata": {
        "id": "7wrNfinQOlWV"
      },
      "source": [
        "**Download the Minecraft server**\n",
        "\n",
        "The code below will download Paper, a high-performance fork of the Vanilla server.\n",
        "Other server platforms can be used by placing the server.jar in the Drive folder manually."
      ]
    },
    {
      "cell_type": "code",
      "execution_count": 5,
      "metadata": {
        "id": "Fy5-YjJMPV3S",
        "colab": {
          "base_uri": "https://localhost:8080/"
        },
        "outputId": "da590467-daa0-4c20-acd1-c9c5af1a88dd"
      },
      "outputs": [
        {
          "output_type": "stream",
          "name": "stderr",
          "text": [
            "<>:51: SyntaxWarning: \"is\" with a literal. Did you mean \"==\"?\n",
            "<>:51: SyntaxWarning: \"is\" with a literal. Did you mean \"==\"?\n"
          ]
        },
        {
          "output_type": "stream",
          "name": "stdout",
          "text": [
            "Drive already mounted at /content/drive; to attempt to forcibly remount, call drive.mount(\"/content/drive\", force_remount=True).\n",
            "/content/drive/My Drive/Minecraft-server\n",
            "https://papermc.io/api/v2/projects/paper/versions/1.21.1/builds/131/downloads/paper-1.21.1-131.jar\n",
            "Downloading to Google Drive...\n",
            "Done!\n"
          ]
        },
        {
          "output_type": "stream",
          "name": "stderr",
          "text": [
            "<ipython-input-5-f14f87b0676c>:51: SyntaxWarning: \"is\" with a literal. Did you mean \"==\"?\n",
            "  if r.status_code is 200:\n"
          ]
        }
      ],
      "source": [
        "# Replace \"1.19.2\" with your desired server version.\n",
        "# Available versions:\n",
        "# - 1.19.2\n",
        "# - 1.19.1\n",
        "# - 1.19\n",
        "# - 1.18.2\n",
        "# - 1.18.1\n",
        "# - 1.18\n",
        "# - 1.17.1\n",
        "# - 1.17\n",
        "# - 1.16.4\n",
        "# - 1.16.3\n",
        "# - 1.15.2\n",
        "# - 1.14.4\n",
        "# - 1.13.2\n",
        "# - 1.12.2\n",
        "# - 1.11.2\n",
        "# - 1.10.2\n",
        "# - 1.9.4\n",
        "# - 1.8.8\n",
        "# Newer versions might work too, however this isn't guaranteed.\n",
        "version = '1.21.1'\n",
        "forge_version = \"43.2.8\"  # If you are going to use forge\n",
        "\n",
        "#Chose server type. Currently available versions: fabric, paper, forge\n",
        "server_type = 'paper'\n",
        "\n",
        "from google.colab import drive\n",
        "import requests\n",
        "import json\n",
        "\n",
        "\n",
        "drive.mount('/content/drive')\n",
        "\n",
        "! mkdir \"/content/drive/My Drive/Minecraft-server\"\n",
        "%cd \"/content/drive/My Drive/Minecraft-server\"\n",
        "\n",
        "if server_type == \"paper\":\n",
        "  a = requests.get(\"https://papermc.io/api/v2/projects/paper/versions/\" + version)\n",
        "  b = requests.get(\"https://papermc.io/api/v2/projects/paper/versions/\" + version + \"/builds/\" + str(a.json()[\"builds\"][-1]))\n",
        "  print(\"https://papermc.io/api/v2/projects/paper/versions/\" + version + \"/builds/\" + str(a.json()[\"builds\"][-1]) + \"/downloads/\" + b.json()[\"downloads\"][\"application\"][\"name\"])\n",
        "\n",
        "  url = \"https://papermc.io/api/v2/projects/paper/versions/\" + version + \"/builds/\" + str(a.json()[\"builds\"][-1]) + \"/downloads/\" + b.json()[\"downloads\"][\"application\"][\"name\"]\n",
        "\n",
        "  jar_name = \"server.jar\"\n",
        "print('Downloading to Google Drive...')\n",
        "\n",
        "\n",
        "r = requests.get(url)\n",
        "\n",
        "if r.status_code is 200:\n",
        "  with open('/content/drive/My Drive/Minecraft-server/' + jar_name, 'wb') as f:\n",
        "    f.write(r.content)\n",
        "else:\n",
        "  print('Error '+ str(r.status_code) + '! Most likely you entered a unsupported version. Try running the code again if you think that shouldn\\'t have happened.')\n",
        "\n",
        "# Running specific install path.\n",
        "if server_type == \"fabric\":\n",
        "  !java -jar fabric-installer.jar server -mcversion $version -downloadMinecraft\n",
        "elif server_type == \"forge\":\n",
        "  !java -jar server.jar --installServer\n",
        "\n",
        "colabconfig = {\"server_type\": server_type}\n",
        "json.dump(colabconfig, open(\"colabconfig.json\",'w'))\n",
        "\n",
        "print('Done!')\n"
      ]
    },
    {
      "cell_type": "markdown",
      "metadata": {
        "id": "vhHYrg6FlbcQ"
      },
      "source": [
        "**Automatically accept the EULA**"
      ]
    },
    {
      "cell_type": "code",
      "execution_count": 6,
      "metadata": {
        "id": "aefCB6cFlle8",
        "colab": {
          "base_uri": "https://localhost:8080/"
        },
        "outputId": "6f8aef58-bb19-4dea-b1c6-37035b5ec606"
      },
      "outputs": [
        {
          "output_type": "stream",
          "name": "stdout",
          "text": [
            "Drive already mounted at /content/drive; to attempt to forcibly remount, call drive.mount(\"/content/drive\", force_remount=True).\n",
            "/content/drive/My Drive/Minecraft-server\n"
          ]
        }
      ],
      "source": [
        "# Please read the file stored in your server folder before running this command.\n",
        "# Also, go to https://www.minecraft.net/en-us/eula to read Minecraft's EULA.\n",
        "\n",
        "# Make sure Drive is mounted\n",
        "from google.colab import drive\n",
        "drive.mount('/content/drive')\n",
        "\n",
        "%cd \"/content/drive/My Drive/Minecraft-server\"\n",
        "!echo \"eula=true\" >> eula.txt"
      ]
    },
    {
      "cell_type": "markdown",
      "metadata": {
        "id": "FO5S4OHVdV5O"
      },
      "source": [
        "# Debug\n",
        "SSH access to host OS - Thanks to [colab-ssh](https://github.com/WassimBenzarti/colab-ssh).\n",
        "\n",
        "<p style=\"color:red;\">YOU MIGHT GET BANNED</p>"
      ]
    },
    {
      "cell_type": "code",
      "execution_count": null,
      "metadata": {
        "id": "cM7gKp6Yi8Q2"
      },
      "outputs": [],
      "source": [
        "#@title Colab-ssh tunnel\n",
        "#@markdown Execute this cell to open the ssh tunnel. Check [colab-ssh documentation](https://github.com/WassimBenzarti/colab-ssh) for more details.\n",
        "\n",
        "# Install colab_ssh on google colab\n",
        "!pip install colab_ssh --upgrade\n",
        "\n",
        "from colab_ssh import launch_ssh_cloudflared, init_git_cloudflared\n",
        "ssh_tunnel_password = \"<PUT_YOUR_PASSWORD_HERE>\" #@param {type: \"string\"}\n",
        "launch_ssh_cloudflared(password=ssh_tunnel_password)"
      ]
    },
    {
      "cell_type": "code",
      "execution_count": 7,
      "metadata": {
        "id": "7kR6rsn7jyxt",
        "colab": {
          "base_uri": "https://localhost:8080/"
        },
        "outputId": "25c9f947-a52d-46eb-e2ab-2a90e6057c87"
      },
      "outputs": [
        {
          "output_type": "stream",
          "name": "stdout",
          "text": [
            "Traceback (most recent call last):\n",
            "  File \"<string>\", line 1, in <module>\n",
            "  File \"/usr/lib/python3.10/json/__init__.py\", line 293, in load\n",
            "    return loads(fp.read(),\n",
            "  File \"/usr/lib/python3.10/json/__init__.py\", line 346, in loads\n",
            "    return _default_decoder.decode(s)\n",
            "  File \"/usr/lib/python3.10/json/decoder.py\", line 337, in decode\n",
            "    obj, end = self.raw_decode(s, idx=_w(s, 0).end())\n",
            "  File \"/usr/lib/python3.10/json/decoder.py\", line 355, in raw_decode\n",
            "    raise JSONDecodeError(\"Expecting value\", s, err.value) from None\n",
            "json.decoder.JSONDecodeError: Expecting value: line 1 column 1 (char 0)\n"
          ]
        }
      ],
      "source": [
        "#Get public address (ngrok)\n",
        "! curl -s http://localhost:4040/api/tunnels | python3 -c \\\n",
        "    \"import sys, json; print(json.load(sys.stdin)['tunnels'][0]['public_url'])\""
      ]
    },
    {
      "cell_type": "code",
      "execution_count": 8,
      "metadata": {
        "id": "Z2rztsCQk0kh",
        "colab": {
          "base_uri": "https://localhost:8080/"
        },
        "outputId": "5fab6c76-d85b-4590-d694-a4d9c80bb800"
      },
      "outputs": [
        {
          "output_type": "stream",
          "name": "stdout",
          "text": [
            "/content/drive/My Drive/Minecraft-server\n",
            "colabconfig.json  eula.txt  server.jar\n"
          ]
        }
      ],
      "source": [
        "## For inspecting the minecraft server directory ##\n",
        "%cd \"/content/drive/My Drive/Minecraft-server\"\n",
        "!ls\n"
      ]
    }
  ],
  "metadata": {
    "colab": {
      "name": "MineColab",
      "provenance": []
    },
    "kernelspec": {
      "display_name": "Python 3 (ipykernel)",
      "language": "python",
      "name": "python3"
    },
    "language_info": {
      "codemirror_mode": {
        "name": "ipython",
        "version": 3
      },
      "file_extension": ".py",
      "mimetype": "text/x-python",
      "name": "python",
      "nbconvert_exporter": "python",
      "pygments_lexer": "ipython3",
      "version": "3.10.4"
    }
  },
  "nbformat": 4,
  "nbformat_minor": 0
}